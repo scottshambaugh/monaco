{
 "cells": [
  {
   "cell_type": "code",
   "execution_count": null,
   "id": "9d85a864",
   "metadata": {},
   "outputs": [],
   "source": [
    "import monaco as mc\n",
    "\n",
    "# Import the statistical distributions from scipy.stats that you will be using.\n",
    "# These must be rv_discrete or rv_continuous functions.\n",
    "# See https://docs.scipy.org/doc/scipy/reference/stats.html for a complete list.\n",
    "from scipy.stats import randint, rv_discrete"
   ]
  },
  {
   "cell_type": "code",
   "execution_count": null,
   "id": "d9b41097",
   "metadata": {},
   "outputs": [],
   "source": [
    "# The preprocessing function should only take in an Case object, and extract the\n",
    "# values from inside it in order to build the inputs for the run function.\n",
    "def template_preprocess(case):\n",
    "\n",
    "    # For all random variables that you initialized in your run script and will\n",
    "    # be passed to your function, access them like so:\n",
    "    flip = case.invals['flip'].val\n",
    "    flipper = case.invals['flipper'].val\n",
    "\n",
    "    # Import or declare any other unchanging inputs that your function needs as well.\n",
    "    coin = 'quarter'\n",
    "\n",
    "    # Structure your data, and return all the arguments to your sim function\n",
    "    # packaged in a tuple. This tuple will be unpacked when your sim function\n",
    "    # is called.\n",
    "    return (flip, flipper, coin)"
   ]
  },
  {
   "cell_type": "code",
   "execution_count": null,
   "id": "7119e45e",
   "metadata": {},
   "outputs": [],
   "source": [
    "# The run function input arguments need to match up with the outputs in the unpacked\n",
    "# tuple from your preprocessing function\n",
    "def template_run(flip, flipper, coin):\n",
    "\n",
    "    # Your simulation calculations will happen here. This function can also be\n",
    "    # a wrapper to call another function or non-python code.\n",
    "\n",
    "    if flip == 0:\n",
    "        headsortails = 'heads'\n",
    "    elif flip == 1:\n",
    "        headsortails = 'tails'\n",
    "\n",
    "    simulation_output = {'headsortails': headsortails,\n",
    "                         'flipper': flipper,\n",
    "                         'coin': coin}\n",
    "\n",
    "    # The outputs should be returned in a tuple, which will be unpacked when your\n",
    "    # postprocessing function is called. Note the trailing comma to make this\n",
    "    # tuple iterable.\n",
    "    return (simulation_output, )"
   ]
  },
  {
   "cell_type": "code",
   "execution_count": null,
   "id": "0672a6ca",
   "metadata": {},
   "outputs": [],
   "source": [
    "# For your postprocessing function, the first argument must be the case, and\n",
    "# all input arguments after case need to match up with the outputs in the unpacked\n",
    "# tuple from your run function.\n",
    "def template_postprocess(case, simulation_output):\n",
    "\n",
    "    # Simulation outputs may be huge, and this is where postprocessing can be\n",
    "    # done to extract the information you want. For example, you may only want\n",
    "    # to know the last point in a timeseries.\n",
    "\n",
    "    # It is good practice to provide a dictionary to map any non-number values\n",
    "    # to numbers via a known valmap. If needed this will be auto-generated, but\n",
    "    # manually assigning numbers will give greater control over plotting.\n",
    "    valmap = {'heads': 0, 'tails': 1}\n",
    "\n",
    "    # Add output values from this case's simulation results, case information,\n",
    "    # or from other data processing that you do in this file.\n",
    "    # The name supplied here will become the outvar's name.\n",
    "    case.addOutVal(name='Flip Result', val=simulation_output['headsortails'], valmap=valmap)\n",
    "    case.addOutVal(name='Flip Number', val=case.ncase)"
   ]
  },
  {
   "cell_type": "code",
   "execution_count": null,
   "id": "b2ee797b",
   "metadata": {},
   "outputs": [],
   "source": [
    "# These get packaged in the following format for Sim to consume:\n",
    "fcns = {'preprocess' : template_preprocess,\n",
    "        'run'        : template_run,\n",
    "        'postprocess': template_postprocess}\n",
    "\n",
    "# Set the number of random draws you wish to make.\n",
    "# If firstcaseismedian is True, then case 0 will be run with the expected value of\n",
    "# each statistical distribution as a 'nominal' run. The total number of cases\n",
    "# will then be ndraws+1\n",
    "ndraws = 500\n",
    "firstcaseismedian = False\n",
    "\n",
    "# Setting a known random seed is recommended for repeatability of random draws.\n",
    "seed = 12362398\n",
    "\n",
    "# Whether to run the simulation in a single thread. If True then the simulation\n",
    "# will run single-threaded in a 'for' loop, and if False then parallel processing\n",
    "# will be used. Parallel processing can be done either with dask or with python's\n",
    "# in-built multiprocessing module, and this is controlled with the `usedask` flag.\n",
    "# Note that depending on your simulation, the parallel processing may not be\n",
    "# faster than the single-threaded version. The depends on the overhead of\n",
    "# passing data between processes versus the speed of the simulation, and is\n",
    "# worth experimenting with for your specific situation.\n",
    "singlethreaded = True\n",
    "usedask = False\n",
    "\n",
    "# If you want, you can save all the results from each case to file, or just the\n",
    "# postprocessed simulation results. This can be incredibly useful for examining\n",
    "# time-consuming sim data after the fact without having to rerun the whole thing.\n",
    "# On the other hand, if your run function generates a lot of data, you may not have\n",
    "# enough storage space to save all of the raw case data. Plus, the file I/O may\n",
    "# be the limiting factor that slows down your simulation. Try setting these flags\n",
    "# to False and seeing how much faster the sim runs.\n",
    "savecasedata = True\n",
    "savesimdata = True"
   ]
  },
  {
   "cell_type": "code",
   "execution_count": null,
   "id": "2944f06f",
   "metadata": {},
   "outputs": [],
   "source": [
    "# We first initialize the sim with a name of our choosing\n",
    "sim = mc.Sim(name='Coin Flip', ndraws=ndraws, fcns=fcns,\n",
    "             firstcaseismedian=firstcaseismedian, seed=seed,\n",
    "             singlethreaded=singlethreaded,\n",
    "             savecasedata=savecasedata, savesimdata=savesimdata,\n",
    "             verbose=True, debug=False)"
   ]
  },
  {
   "cell_type": "code",
   "execution_count": null,
   "id": "b842791f",
   "metadata": {},
   "outputs": [],
   "source": [
    "# We now add input variables, with their associated distributions\n",
    "# Out first variable will be the person flipping a coin - Sam and Alex will\n",
    "# do so with even odds.\n",
    "# For even odds between 0 and 1 we want to call scipy.stats.randint(0,2)\n",
    "# The dist argument is therefor randint, and we look up its arguments in the\n",
    "# documentation:\n",
    "# https://docs.scipy.org/doc/scipy/reference/generated/scipy.stats.randint.html\n",
    "# The kwargs are {'low':0, 'high':2}, which we package in a keyword dictionary.\n",
    "# Since our inputs here are strings rather than numbers, we need to map the\n",
    "# numbers from our random draws to those imputs with a nummap dictionary\n",
    "nummap = {0: 'Sam', 1: 'Alex'}\n",
    "sim.addInVar(name='flipper', dist=randint, distkwargs={'low': 0, 'high': 2}, nummap=nummap)\n",
    "\n",
    "# If we want to generate custom odds, we can create our own distribution, see:\n",
    "# https://docs.scipy.org/doc/scipy/reference/generated/scipy.stats.rv_discrete.html\n",
    "# Let's assume that we have a weighted coin where heads comes up 70% of the time.\n",
    "# Our 'template_run' run function reads 0 as heads and 1 as tails.\n",
    "flip_dist = rv_discrete(name='flip_dist', values=([0, 1], [0.7, 0.3]))\n",
    "# If the distribution is custom then it doesn't take arguments, so pass in\n",
    "# an empty dictionary\n",
    "sim.addInVar(name='flip', dist=flip_dist, distkwargs=dict())"
   ]
  },
  {
   "cell_type": "code",
   "execution_count": null,
   "id": "628ca58c",
   "metadata": {},
   "outputs": [],
   "source": [
    "# Once all input variables are initialized, we run the sim.\n",
    "# For each case, the preprocessing function will pull in the random variables\n",
    "# and any other data the run fuction needs, the run function executes, and\n",
    "# its output is passed to the postprocessing function for extracting the\n",
    "# desired output values from each case.\n",
    "# The cases are collected, and the individual output values are collected into\n",
    "# an output variable stored by the sim object.\n",
    "sim.runSim()"
   ]
  },
  {
   "cell_type": "code",
   "execution_count": null,
   "id": "c7ba707e",
   "metadata": {},
   "outputs": [],
   "source": [
    "# Once the sim is run, we have access to its member variables.\n",
    "print(f'{sim.name} Runtime: {sim.runtime}')\n",
    "\n",
    "# From here we can perform further postprocessing on our results. The outvar\n",
    "# names were assigned in our postprocessing function. We expect the heads\n",
    "# bias to be near the 70% we assigned up in flip_dist.\n",
    "bias = sim.outvars['Flip Result'].vals.count('heads')/sim.ncases*100\n",
    "print(f'Average heads bias: {bias}%')"
   ]
  },
  {
   "cell_type": "code",
   "execution_count": null,
   "id": "c374536f",
   "metadata": {},
   "outputs": [],
   "source": [
    "# We can also quickly make some plots of our invars and outvars. The mc.plot\n",
    "# function will automatically try to figure out which type of plot is most\n",
    "# appropriate based on the number and dimension of the variables.\n",
    "# This will make a histogram of the results:\n",
    "mc.plot(sim.outvars['Flip Result'])"
   ]
  },
  {
   "cell_type": "code",
   "execution_count": null,
   "id": "41717dfb",
   "metadata": {},
   "outputs": [],
   "source": [
    "# And this scatter plot will show that the flips were random over time:\n",
    "mc.plot(sim.outvars['Flip Number'], sim.outvars['Flip Result'])"
   ]
  },
  {
   "cell_type": "code",
   "execution_count": null,
   "id": "f0bab464",
   "metadata": {},
   "outputs": [],
   "source": [
    "# We can also look at the correlation between all scalar input and output\n",
    "# vars to see which are most affecting the others. This shows that the input\n",
    "# and output flip information is identical, and that the flipper and flip\n",
    "# number had no effect on the coin landing heads or tails.\n",
    "mc.plot_cov_corr(*sim.corr())"
   ]
  }
 ],
 "metadata": {
  "kernelspec": {
   "display_name": "Python 3 (ipykernel)",
   "language": "python",
   "name": "python3"
  },
  "language_info": {
   "codemirror_mode": {
    "name": "ipython",
    "version": 3
   },
   "file_extension": ".py",
   "mimetype": "text/x-python",
   "name": "python",
   "nbconvert_exporter": "python",
   "pygments_lexer": "ipython3",
   "version": "3.10.4"
  }
 },
 "nbformat": 4,
 "nbformat_minor": 5
}
